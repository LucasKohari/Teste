{
  "nbformat": 4,
  "nbformat_minor": 0,
  "metadata": {
    "colab": {
      "name": "Untitled0.ipynb",
      "provenance": [],
      "collapsed_sections": [
        "IzjkiR1perns",
        "eg-_Jpj0f2ia",
        "HoFYfPLUrBr4",
        "m_5XM-OQscDP",
        "jhnWkBWawuMx",
        "Tsqx25sjzC6u",
        "94JtuCie7dm1"
      ]
    },
    "kernelspec": {
      "name": "python3",
      "display_name": "Python 3"
    },
    "language_info": {
      "name": "python"
    }
  },
  "cells": [
    {
      "cell_type": "markdown",
      "source": [
        "#Refazendo Tudo"
      ],
      "metadata": {
        "id": "nYLjNZyOym_m"
      }
    },
    {
      "cell_type": "code",
      "source": [
        "def saudacao():\n",
        "  nome = input('Qual seu nome ?')\n",
        "  sobre_nome = input ('Qual seu sobrenome ?')\n",
        "  nome_completo = nome + ' ' + sobre_nome\n",
        "  print(f' olá {nome_completo} seja bem vindo')\n",
        "\n",
        "  #Perguntando ao código se posso dirigir.\n",
        "\n",
        "def verifica_se_posso_dirigir(idade):\n",
        "  idade = input('Quantos anos voce tem ?')\n",
        "  idade = int(idade)\n",
        "  if idade => 18:\n",
        "    print(f'Você pode dirigir')\n",
        "  else:\n",
        "    print(f'Voce ñ pode dirigir')\n",
        "\n",
        "   \n",
        "  verifica_se_pode_dirigir()\n"
      ],
      "metadata": {
        "colab": {
          "base_uri": "https://localhost:8080/",
          "height": 130
        },
        "id": "qCSm7awQyzd_",
        "outputId": "7e818d55-3a48-4079-cd80-e00398402f62"
      },
      "execution_count": null,
      "outputs": [
        {
          "output_type": "error",
          "ename": "SyntaxError",
          "evalue": "ignored",
          "traceback": [
            "\u001b[0;36m  File \u001b[0;32m\"<ipython-input-16-fef01adc02b6>\"\u001b[0;36m, line \u001b[0;32m12\u001b[0m\n\u001b[0;31m    if idade => 18:\u001b[0m\n\u001b[0m             ^\u001b[0m\n\u001b[0;31mSyntaxError\u001b[0m\u001b[0;31m:\u001b[0m invalid syntax\n"
          ]
        }
      ]
    },
    {
      "cell_type": "code",
      "source": [
        "saudacao()"
      ],
      "metadata": {
        "colab": {
          "base_uri": "https://localhost:8080/"
        },
        "id": "RTCmhrG-3MHc",
        "outputId": "05d6e680-3a00-496b-edd6-6937494a58f0"
      },
      "execution_count": null,
      "outputs": [
        {
          "output_type": "stream",
          "name": "stdout",
          "text": [
            "Qual seu nome ?Lucas\n",
            "Qual seu sobrenome ?Gabriel\n",
            " olá Lucas Gabriel seja bem vindo\n"
          ]
        }
      ]
    },
    {
      "cell_type": "markdown",
      "source": [
        "# Minha Primeira Função"
      ],
      "metadata": {
        "id": "4vp5Uu2CZy2T"
      }
    },
    {
      "cell_type": "code",
      "execution_count": null,
      "metadata": {
        "id": "BZi51JaYY9cX"
      },
      "outputs": [],
      "source": [
        "def saudacao():\n",
        "  nome = input('Qual seu nome?')\n",
        "  print(f'olá {nome}')"
      ]
    },
    {
      "cell_type": "code",
      "source": [
        "saudacao()"
      ],
      "metadata": {
        "colab": {
          "base_uri": "https://localhost:8080/"
        },
        "id": "IjBCjJKiagGG",
        "outputId": "b7988c5c-7612-4094-9145-a8bfd8adf55b"
      },
      "execution_count": null,
      "outputs": [
        {
          "output_type": "stream",
          "name": "stdout",
          "text": [
            "Qual seu nome?Lucas\n",
            "olá Lucas\n"
          ]
        }
      ]
    },
    {
      "cell_type": "code",
      "source": [
        "def nome_completo():\n",
        "  primeiro_nome = input('Qual o seu primeiro nome?')\n",
        "  sobrenome = input ('Qual o seu sobrenome?')\n",
        "  nome_inteiro = primeiro_nome + ' ' + sobrenome\n",
        "  print(nome_inteiro)"
      ],
      "metadata": {
        "id": "U5kaQCOMahs0"
      },
      "execution_count": null,
      "outputs": []
    },
    {
      "cell_type": "markdown",
      "source": [
        "#Parâmetros"
      ],
      "metadata": {
        "id": "IzjkiR1perns"
      }
    },
    {
      "cell_type": "code",
      "source": [
        "nome = 'lucas'"
      ],
      "metadata": {
        "id": "C_9lc2BhfLbf"
      },
      "execution_count": null,
      "outputs": []
    },
    {
      "cell_type": "code",
      "source": [
        "def saudacao_com_parametro(nome_da_pessoa):\n",
        "  print(f'Olá {nome_da_pessoa} ' )"
      ],
      "metadata": {
        "id": "cfRuwe4YdrO7"
      },
      "execution_count": null,
      "outputs": []
    },
    {
      "cell_type": "code",
      "source": [
        "saudacao_com_parametro(nome)"
      ],
      "metadata": {
        "colab": {
          "base_uri": "https://localhost:8080/"
        },
        "id": "XXd91dKwfMc7",
        "outputId": "896e3fdf-793e-464c-ad6e-cc6fc616dba7"
      },
      "execution_count": null,
      "outputs": [
        {
          "output_type": "stream",
          "name": "stdout",
          "text": [
            "Olá lucas \n"
          ]
        }
      ]
    },
    {
      "cell_type": "markdown",
      "source": [
        "#Condicional"
      ],
      "metadata": {
        "id": "eg-_Jpj0f2ia"
      }
    },
    {
      "cell_type": "code",
      "source": [
        "idade = 22\n",
        "\n",
        "def verifica_se_pode_dirigir(idade):\n",
        "  if idade >= 18:\n",
        "    print('Tem permissão para dirigir')\n",
        "  else:\n",
        "    print('Não tem permissão para dirigir')\n",
        "\n",
        "verifica_se_pode_dirigir(idade)"
      ],
      "metadata": {
        "colab": {
          "base_uri": "https://localhost:8080/"
        },
        "id": "ni3ltFVAf4RO",
        "outputId": "e62d3d48-c6ad-4e08-a55b-6591f66f1165"
      },
      "execution_count": null,
      "outputs": [
        {
          "output_type": "stream",
          "name": "stdout",
          "text": [
            "Não tem permissão para dirigir\n"
          ]
        }
      ]
    },
    {
      "cell_type": "markdown",
      "source": [
        "#Convertendo tipo para inteiro\n",
        "```\n",
        "\n"
      ],
      "metadata": {
        "id": "ZFdFoTY7h_0-"
      }
    },
    {
      "cell_type": "code",
      "source": [
        "def verifica_se_pode_dirigir_sem_parametros():\n",
        "  idade = input('Qual a sua idade?')\n",
        "  idade = int(idade)\n",
        "  if idade >= 18:\n",
        "    print(f'Você tem permissão para dirigir')\n",
        "  else:\n",
        "    print(f'Voce ñ tem permissão para dirigir')\n",
        "\n",
        "verifica_se_pode_dirigir_sem_parametros()\n",
        "    \n"
      ],
      "metadata": {
        "colab": {
          "base_uri": "https://localhost:8080/"
        },
        "id": "vIISjCM5f7R1",
        "outputId": "ade1a3c6-7bc3-4eea-8824-95cf178a80bd"
      },
      "execution_count": null,
      "outputs": [
        {
          "output_type": "stream",
          "name": "stdout",
          "text": [
            "Qual a sua idade?21\n",
            "Você tem permissão para dirigir\n"
          ]
        }
      ]
    },
    {
      "cell_type": "code",
      "source": [
        ""
      ],
      "metadata": {
        "id": "0bGvu5RHiy5x"
      },
      "execution_count": null,
      "outputs": []
    },
    {
      "cell_type": "markdown",
      "source": [
        "#Listas"
      ],
      "metadata": {
        "id": "HoFYfPLUrBr4"
      }
    },
    {
      "cell_type": "code",
      "source": [
        "idades = [17, 21, 40, 52]\n",
        "type(idades)"
      ],
      "metadata": {
        "colab": {
          "base_uri": "https://localhost:8080/"
        },
        "id": "jdHmMSVdrFOk",
        "outputId": "1b45c923-3aa0-4a95-efe3-d66b02e4bd9f"
      },
      "execution_count": null,
      "outputs": [
        {
          "output_type": "execute_result",
          "data": {
            "text/plain": [
              "list"
            ]
          },
          "metadata": {},
          "execution_count": 32
        }
      ]
    },
    {
      "cell_type": "code",
      "source": [
        "nome = 'lucas'"
      ],
      "metadata": {
        "id": "XNWoheuCsEwY"
      },
      "execution_count": null,
      "outputs": []
    },
    {
      "cell_type": "code",
      "source": [
        "type(nome)"
      ],
      "metadata": {
        "colab": {
          "base_uri": "https://localhost:8080/"
        },
        "id": "IsZd0J8ksGqu",
        "outputId": "5f4a66da-9ba1-4c10-fe9a-2e02a88b3df7"
      },
      "execution_count": null,
      "outputs": [
        {
          "output_type": "execute_result",
          "data": {
            "text/plain": [
              "str"
            ]
          },
          "metadata": {},
          "execution_count": 34
        }
      ]
    },
    {
      "cell_type": "code",
      "source": [
        "idade = 21\n",
        "type(idade)"
      ],
      "metadata": {
        "colab": {
          "base_uri": "https://localhost:8080/"
        },
        "id": "rgvXiEgwsHp-",
        "outputId": "2541a4ed-8ead-4a61-dfbb-88f73ee3dd42"
      },
      "execution_count": null,
      "outputs": [
        {
          "output_type": "execute_result",
          "data": {
            "text/plain": [
              "int"
            ]
          },
          "metadata": {},
          "execution_count": 35
        }
      ]
    },
    {
      "cell_type": "code",
      "source": [
        "idades"
      ],
      "metadata": {
        "colab": {
          "base_uri": "https://localhost:8080/"
        },
        "id": "j9W6sEVqsKo9",
        "outputId": "ca5a3de0-8cf1-4c77-a88b-6dac6f09b445"
      },
      "execution_count": null,
      "outputs": [
        {
          "output_type": "execute_result",
          "data": {
            "text/plain": [
              "[17, 21, 40, 52]"
            ]
          },
          "metadata": {},
          "execution_count": 36
        }
      ]
    },
    {
      "cell_type": "code",
      "source": [
        "idades [-1]"
      ],
      "metadata": {
        "colab": {
          "base_uri": "https://localhost:8080/"
        },
        "id": "UBxERGM6sMVF",
        "outputId": "086149f9-72f8-41d1-d7f9-447f3eab8bc5"
      },
      "execution_count": null,
      "outputs": [
        {
          "output_type": "execute_result",
          "data": {
            "text/plain": [
              "52"
            ]
          },
          "metadata": {},
          "execution_count": 37
        }
      ]
    },
    {
      "cell_type": "code",
      "source": [
        "idades[0]"
      ],
      "metadata": {
        "colab": {
          "base_uri": "https://localhost:8080/"
        },
        "id": "3ZfFQs9VsPdl",
        "outputId": "019df021-d384-423c-8e67-0fb824b8db3c"
      },
      "execution_count": null,
      "outputs": [
        {
          "output_type": "execute_result",
          "data": {
            "text/plain": [
              "17"
            ]
          },
          "metadata": {},
          "execution_count": 38
        }
      ]
    },
    {
      "cell_type": "markdown",
      "source": [
        "#Laços e Loops"
      ],
      "metadata": {
        "id": "m_5XM-OQscDP"
      }
    },
    {
      "cell_type": "code",
      "source": [
        "idades = [18, 22, 15, 50]"
      ],
      "metadata": {
        "id": "CKyQZC4XsrjF"
      },
      "execution_count": null,
      "outputs": []
    },
    {
      "cell_type": "code",
      "source": [
        "#For fora da função\n",
        "\n",
        "def verifica_se_pode_dirigir(idade):\n",
        "  if idade >= 18:\n",
        "    print(f' {idade} anos de idade, Tem permissão para dirigir')\n",
        "  else:\n",
        "    print(f' {idade} anos de idade, Não tem permissão para dirigir')\n",
        "\n",
        "for idade in idades:\n",
        "  verifica_se_pode_dirigir(idade)"
      ],
      "metadata": {
        "colab": {
          "base_uri": "https://localhost:8080/"
        },
        "outputId": "652177bc-8812-41ba-acbb-9ff4bc2f0ec9",
        "id": "CUKzVUlSsniS"
      },
      "execution_count": null,
      "outputs": [
        {
          "output_type": "stream",
          "name": "stdout",
          "text": [
            " 18 anos de idade, Tem permissão para dirigir\n",
            " 22 anos de idade, Tem permissão para dirigir\n",
            " 15 anos de idade, Não tem permissão para dirigir\n",
            " 50 anos de idade, Tem permissão para dirigir\n"
          ]
        }
      ]
    },
    {
      "cell_type": "markdown",
      "source": [
        "# Booleano"
      ],
      "metadata": {
        "id": "A7MwQK2_u0mM"
      }
    },
    {
      "cell_type": "code",
      "source": [
        "permissoes = []\n",
        "idades = [20, 15, 55]\n",
        "\n",
        "def verifica_se_pode_dirigir(idades, permissoes):\n",
        "  for idade in idades:\n",
        "    if idade >= 18:\n",
        "      permissoes.append(True)\n",
        "    else:\n",
        "     permissoes.append(False)\n",
        "\n",
        "verifica_se_pode_dirigir(idades, permissoes)"
      ],
      "metadata": {
        "id": "IgbLR6MTu2sB"
      },
      "execution_count": null,
      "outputs": []
    },
    {
      "cell_type": "code",
      "source": [
        "permissoes"
      ],
      "metadata": {
        "colab": {
          "base_uri": "https://localhost:8080/"
        },
        "id": "fLdtNbj0ragY",
        "outputId": "33157cdf-d506-44d1-a708-14425a2b5f50"
      },
      "execution_count": null,
      "outputs": [
        {
          "output_type": "execute_result",
          "data": {
            "text/plain": [
              "[True, False, True]"
            ]
          },
          "metadata": {},
          "execution_count": 3
        }
      ]
    },
    {
      "cell_type": "code",
      "source": [
        "for permissao in permissoes:\n",
        "  if permissao == True:\n",
        "    print('voce pode dirigir')\n",
        "  else:\n",
        "    print('vc nao pode dirigir')"
      ],
      "metadata": {
        "colab": {
          "base_uri": "https://localhost:8080/"
        },
        "id": "bWvnmXsark7U",
        "outputId": "84adf04b-3c65-45af-a43c-207c0fae06d3"
      },
      "execution_count": null,
      "outputs": [
        {
          "output_type": "stream",
          "name": "stdout",
          "text": [
            "voce pode dirigir\n",
            "vc nao pode dirigir\n",
            "voce pode dirigir\n"
          ]
        }
      ]
    },
    {
      "cell_type": "markdown",
      "source": [
        "#Tipos em uma Lista\n"
      ],
      "metadata": {
        "id": "jhnWkBWawuMx"
      }
    },
    {
      "cell_type": "code",
      "source": [
        "listas = ['Lucas', 22, True, '20']\n",
        "\n",
        "\n",
        "for elemento in listas:\n",
        "  print(f' O elemento  {elemento} é do tipo: ', type(elemento))"
      ],
      "metadata": {
        "colab": {
          "base_uri": "https://localhost:8080/"
        },
        "id": "Iy9HiFJKw0Re",
        "outputId": "4f8065a1-f8b1-4219-ee1e-a073816a9ebb"
      },
      "execution_count": null,
      "outputs": [
        {
          "output_type": "stream",
          "name": "stdout",
          "text": [
            " O elemento  Lucas é do tipo:  <class 'str'>\n",
            " O elemento  22 é do tipo:  <class 'int'>\n",
            " O elemento  True é do tipo:  <class 'bool'>\n",
            " O elemento  20 é do tipo:  <class 'str'>\n"
          ]
        }
      ]
    },
    {
      "cell_type": "markdown",
      "source": [
        "# Imports"
      ],
      "metadata": {
        "id": "Tsqx25sjzC6u"
      }
    },
    {
      "cell_type": "code",
      "source": [
        "from random import randrange, seed"
      ],
      "metadata": {
        "id": "Z7MAPPWKzEZO"
      },
      "execution_count": null,
      "outputs": []
    },
    {
      "cell_type": "code",
      "source": [
        "notas_matematica = []\n",
        "\n",
        "for notas in range(8):\n",
        "  notas_matematica.append(randrange(0,11))\n",
        "\n",
        "\n",
        "notas_matematica"
      ],
      "metadata": {
        "colab": {
          "base_uri": "https://localhost:8080/"
        },
        "id": "SllVDVXpzQzl",
        "outputId": "b854b7d0-6395-4b64-ca2e-9d4c7f651a4a"
      },
      "execution_count": null,
      "outputs": [
        {
          "output_type": "execute_result",
          "data": {
            "text/plain": [
              "[1, 3, 4, 3, 7, 8, 7, 2]"
            ]
          },
          "metadata": {},
          "execution_count": 19
        }
      ]
    },
    {
      "cell_type": "markdown",
      "source": [
        "# MatPlotLib"
      ],
      "metadata": {
        "id": "94JtuCie7dm1"
      }
    },
    {
      "cell_type": "code",
      "source": [
        "import matplotlib.pyplot as plt"
      ],
      "metadata": {
        "id": "HKsgAEjz0kG3"
      },
      "execution_count": null,
      "outputs": []
    },
    {
      "cell_type": "code",
      "source": [
        "x = list(range(1,9))\n",
        "y = notas_matematica\n",
        "plt.plot(x, y, marker='o')\n",
        "plt.title('Notas Matemáticas')\n",
        "plt.xlabel('Provas')\n",
        "plt.ylabel('Notas')\n",
        "plt.show()"
      ],
      "metadata": {
        "colab": {
          "base_uri": "https://localhost:8080/",
          "height": 295
        },
        "id": "62yrC5sU7ntn",
        "outputId": "d527d03a-b8c1-40c1-d2ab-706583def473"
      },
      "execution_count": null,
      "outputs": [
        {
          "output_type": "display_data",
          "data": {
            "image/png": "[encoded data removed]",
            "text/plain": [
              "<Figure size 432x288 with 1 Axes>"
            ]
          },
          "metadata": {
            "needs_background": "light"
          }
        }
      ]
    },
    {
      "cell_type": "code",
      "source": [
        ""
      ],
      "metadata": {
        "id": "gNjc6_Pl-HVt"
      },
      "execution_count": null,
      "outputs": []
    }
  ]
}